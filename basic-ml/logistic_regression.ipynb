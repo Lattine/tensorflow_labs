{
 "cells": [
  {
   "cell_type": "code",
   "execution_count": 1,
   "metadata": {},
   "outputs": [
    {
     "name": "stderr",
     "output_type": "stream",
     "text": [
      "C:\\ProgramData\\Anaconda3\\lib\\site-packages\\requests\\__init__.py:80: RequestsDependencyWarning: urllib3 (1.24.3) or chardet (3.0.4) doesn't match a supported version!\n",
      "  RequestsDependencyWarning)\n"
     ]
    }
   ],
   "source": [
    "import numpy as np\n",
    "import tensorflow as tf\n",
    "import matplotlib.pyplot as plt\n",
    "%matplotlib inline"
   ]
  },
  {
   "cell_type": "code",
   "execution_count": 4,
   "metadata": {},
   "outputs": [
    {
     "data": {
      "image/png": "[encoded data removed]",
      "text/plain": [
       "<Figure size 504x180 with 2 Axes>"
      ]
     },
     "metadata": {},
     "output_type": "display_data"
    }
   ],
   "source": [
    "# Dataset\n",
    "x = np.genfromtxt('../data/iris.data', delimiter=',', usecols=range(2), max_rows=100)\n",
    "y = np.zeros(100)\n",
    "y[50:] = 1\n",
    "\n",
    "np.random.seed(123)\n",
    "idx = np.arange(y.shape[0])\n",
    "np.random.shuffle(idx)\n",
    "x_test, y_test = x[idx[:25]], y[idx[:25]]\n",
    "x_train, y_train = x[idx[25:]], y[idx[25:]]\n",
    "mu, std = np.mean(x_train, axis=0), np.std(x_train, axis=0)\n",
    "x_train, x_test = (x_train - mu) / std, (x_test - mu) / std\n",
    "\n",
    "fig, ax = plt.subplots(1, 2, figsize=(7, 2.5))\n",
    "ax[0].scatter(x_train[y_train == 1, 0], x_train[y_train == 1, 1])\n",
    "ax[0].scatter(x_train[y_train == 0, 0], x_train[y_train == 0, 1])\n",
    "ax[1].scatter(x_test[y_test == 1, 0], x_test[y_test == 1, 1])\n",
    "ax[1].scatter(x_test[y_test == 0, 0], x_test[y_test == 0, 1])\n",
    "plt.show()"
   ]
  },
  {
   "cell_type": "code",
   "execution_count": 5,
   "metadata": {},
   "outputs": [],
   "source": [
    "# Helper Function\n",
    "def iterate_minibatches(arrays, batch_size, shuffle=False, seed=None):\n",
    "    rgen = np.random.RandomState(seed)\n",
    "    indices = np.arange(arrays[0].shape[0])\n",
    "    if shuffle:\n",
    "        rgen.shuffle(indices)\n",
    "    for start_idx in range(0, indices.shape[0] - batch_size + 1, batch_size):\n",
    "        index_slice = indices[start_idx:start_idx + batch_size]\n",
    "        yield (ary[index_slice] for ary in arrays)"
   ]
  },
  {
   "cell_type": "code",
   "execution_count": 7,
   "metadata": {},
   "outputs": [
    {
     "name": "stdout",
     "output_type": "stream",
     "text": [
      "Epoch: 000 | AvgCost: nan | Train/Valid ACC: 0.51/0.48\n",
      "Epoch: 001 | AvgCost: 4.122 | Train/Valid ACC: 1.00/1.00\n",
      "Epoch: 002 | AvgCost: 1.180 | Train/Valid ACC: 1.00/1.00\n",
      "Epoch: 003 | AvgCost: 0.587 | Train/Valid ACC: 1.00/1.00\n",
      "Epoch: 004 | AvgCost: 0.363 | Train/Valid ACC: 1.00/1.00\n",
      "Epoch: 005 | AvgCost: 0.251 | Train/Valid ACC: 1.00/1.00\n",
      "Epoch: 006 | AvgCost: 0.186 | Train/Valid ACC: 1.00/1.00\n",
      "Epoch: 007 | AvgCost: 0.145 | Train/Valid ACC: 1.00/1.00\n",
      "Epoch: 008 | AvgCost: 0.117 | Train/Valid ACC: 1.00/1.00\n",
      "Epoch: 009 | AvgCost: 0.097 | Train/Valid ACC: 1.00/1.00\n",
      "Epoch: 010 | AvgCost: 0.082 | Train/Valid ACC: 1.00/1.00\n",
      "Epoch: 011 | AvgCost: 0.070 | Train/Valid ACC: 1.00/1.00\n",
      "Epoch: 012 | AvgCost: 0.061 | Train/Valid ACC: 1.00/1.00\n",
      "Epoch: 013 | AvgCost: 0.054 | Train/Valid ACC: 1.00/1.00\n",
      "Epoch: 014 | AvgCost: 0.048 | Train/Valid ACC: 1.00/1.00\n",
      "\n",
      " Weights:\n",
      " [[ 2.9804766]\n",
      " [-2.6913266]]\n",
      "\n",
      " Bias:\n",
      " [[0.34256113]]\n"
     ]
    }
   ],
   "source": [
    "# Settings\n",
    "n_features = x.shape[1]\n",
    "n_samples = x.shape[0]\n",
    "learning_rate = 0.05\n",
    "training_epochs = 15\n",
    "batch_size = 10\n",
    "\n",
    "# Graph Definition\n",
    "g = tf.Graph()\n",
    "with g.as_default() as g:\n",
    "    tf_x = tf.placeholder(dtype=tf.float32, shape=[None, n_features], name='inputs')\n",
    "    tf_y = tf.placeholder(dtype=tf.float32, shape=[None], name='targets')\n",
    "\n",
    "    params = {\n",
    "        'weights': tf.Variable(tf.zeros(shape=[n_features, 1], dtype=tf.float32), name='weights'),\n",
    "        'bias': tf.Variable([[0.1]], dtype=tf.float32, name='bias')\n",
    "    }\n",
    "\n",
    "    # Logistic Regression\n",
    "    linear = tf.matmul(tf_x, params['weights']) + params['bias']\n",
    "    pred_proba = tf.sigmoid(linear, name='predict_probas')\n",
    "\n",
    "    r = tf.reshape(pred_proba, [-1])\n",
    "    cost = tf.reduce_mean(tf.reduce_sum((-tf_y * tf.log(r)) - ((1 - tf_y) * tf.log(1 - r))), name='cost')\n",
    "    optimizer = tf.train.GradientDescentOptimizer(learning_rate=learning_rate)\n",
    "    train = optimizer.minimize(cost, name='train')\n",
    "\n",
    "    # Class Prediction\n",
    "    pred_labels = tf.round(tf.reshape(pred_proba, [-1]), name='predict_labels')\n",
    "    correct_prediction = tf.equal(tf_y, pred_labels)\n",
    "    accuracy = tf.reduce_mean(tf.cast(correct_prediction, tf.float32), name='accuracy')\n",
    "\n",
    "# Training & Evaluation\n",
    "with tf.Session(graph=g) as sess:\n",
    "    sess.run(tf.global_variables_initializer())\n",
    "    avg_cost = np.nan\n",
    "    count = 1\n",
    "    for epoch in range(training_epochs):\n",
    "        train_acc = sess.run('accuracy:0', feed_dict={tf_x: x_train, tf_y: y_train})\n",
    "        valid_acc = sess.run('accuracy:0', feed_dict={tf_x: x_test, tf_y: y_test})\n",
    "        print(\"Epoch: %03d | AvgCost: %.3f\" % (epoch, avg_cost / count), end=\"\")\n",
    "        print(\" | Train/Valid ACC: %.2f/%.2f\" % (train_acc, valid_acc))\n",
    "        avg_cost = 0.\n",
    "        for x_batch, y_batch in iterate_minibatches(arrays=[x_train, y_train], batch_size=batch_size, shuffle=True, seed=123):\n",
    "            feed_dict = {'inputs:0': x_batch, 'targets:0': y_batch}\n",
    "            _, c = sess.run(['train', 'cost:0'], feed_dict=feed_dict)\n",
    "            avg_cost += c\n",
    "            count += 1\n",
    "\n",
    "    weights, bias = sess.run(['weights:0', 'bias:0'])\n",
    "    print('\\n Weights:\\n', weights)\n",
    "    print('\\n Bias:\\n', bias)"
   ]
  }
 ],
 "metadata": {
  "kernelspec": {
   "display_name": "Python 3",
   "language": "python",
   "name": "python3"
  },
  "language_info": {
   "codemirror_mode": {
    "name": "ipython",
    "version": 3
   },
   "file_extension": ".py",
   "mimetype": "text/x-python",
   "name": "python",
   "nbconvert_exporter": "python",
   "pygments_lexer": "ipython3",
   "version": "3.6.5"
  }
 },
 "nbformat": 4,
 "nbformat_minor": 2
}
