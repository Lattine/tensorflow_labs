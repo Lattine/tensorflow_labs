{
 "cells": [
  {
   "cell_type": "code",
   "execution_count": 1,
   "metadata": {},
   "outputs": [
    {
     "name": "stderr",
     "output_type": "stream",
     "text": [
      "C:\\ProgramData\\Anaconda3\\lib\\site-packages\\requests\\__init__.py:80: RequestsDependencyWarning: urllib3 (1.24.3) or chardet (3.0.4) doesn't match a supported version!\n",
      "  RequestsDependencyWarning)\n"
     ]
    }
   ],
   "source": [
    "import tensorflow as tf\n",
    "from tensorflow.examples.tutorials.mnist import input_data"
   ]
  },
  {
   "cell_type": "code",
   "execution_count": 2,
   "metadata": {},
   "outputs": [
    {
     "name": "stdout",
     "output_type": "stream",
     "text": [
      "WARNING:tensorflow:From <ipython-input-2-cba37361819e>:2: read_data_sets (from tensorflow.contrib.learn.python.learn.datasets.mnist) is deprecated and will be removed in a future version.\n",
      "Instructions for updating:\n",
      "Please use alternatives such as official/mnist/dataset.py from tensorflow/models.\n",
      "WARNING:tensorflow:From C:\\ProgramData\\Anaconda3\\lib\\site-packages\\tensorflow\\contrib\\learn\\python\\learn\\datasets\\mnist.py:260: maybe_download (from tensorflow.contrib.learn.python.learn.datasets.base) is deprecated and will be removed in a future version.\n",
      "Instructions for updating:\n",
      "Please write your own downloading logic.\n",
      "WARNING:tensorflow:From C:\\ProgramData\\Anaconda3\\lib\\site-packages\\tensorflow\\contrib\\learn\\python\\learn\\datasets\\mnist.py:262: extract_images (from tensorflow.contrib.learn.python.learn.datasets.mnist) is deprecated and will be removed in a future version.\n",
      "Instructions for updating:\n",
      "Please use tf.data to implement this functionality.\n",
      "Extracting ../data/mnist/train-images-idx3-ubyte.gz\n",
      "WARNING:tensorflow:From C:\\ProgramData\\Anaconda3\\lib\\site-packages\\tensorflow\\contrib\\learn\\python\\learn\\datasets\\mnist.py:267: extract_labels (from tensorflow.contrib.learn.python.learn.datasets.mnist) is deprecated and will be removed in a future version.\n",
      "Instructions for updating:\n",
      "Please use tf.data to implement this functionality.\n",
      "Extracting ../data/mnist/train-labels-idx1-ubyte.gz\n",
      "WARNING:tensorflow:From C:\\ProgramData\\Anaconda3\\lib\\site-packages\\tensorflow\\contrib\\learn\\python\\learn\\datasets\\mnist.py:110: dense_to_one_hot (from tensorflow.contrib.learn.python.learn.datasets.mnist) is deprecated and will be removed in a future version.\n",
      "Instructions for updating:\n",
      "Please use tf.one_hot on tensors.\n",
      "Extracting ../data/mnist/t10k-images-idx3-ubyte.gz\n",
      "Extracting ../data/mnist/t10k-labels-idx1-ubyte.gz\n",
      "WARNING:tensorflow:From C:\\ProgramData\\Anaconda3\\lib\\site-packages\\tensorflow\\contrib\\learn\\python\\learn\\datasets\\mnist.py:290: DataSet.__init__ (from tensorflow.contrib.learn.python.learn.datasets.mnist) is deprecated and will be removed in a future version.\n",
      "Instructions for updating:\n",
      "Please use alternatives such as official/mnist/dataset.py from tensorflow/models.\n"
     ]
    }
   ],
   "source": [
    "# Dataset\n",
    "mnist = input_data.read_data_sets('../data/mnist/', one_hot=True)"
   ]
  },
  {
   "cell_type": "code",
   "execution_count": 3,
   "metadata": {},
   "outputs": [
    {
     "name": "stdout",
     "output_type": "stream",
     "text": [
      "WARNING:tensorflow:From C:\\ProgramData\\Anaconda3\\lib\\site-packages\\tensorflow\\python\\framework\\op_def_library.py:263: colocate_with (from tensorflow.python.framework.ops) is deprecated and will be removed in a future version.\n",
      "Instructions for updating:\n",
      "Colocations handled automatically by placer.\n"
     ]
    }
   ],
   "source": [
    "# Settings\n",
    "learning_rate = 0.5\n",
    "training_epochs = 30\n",
    "batch_size = 256\n",
    "n_features = 784\n",
    "n_classes = 10\n",
    "\n",
    "# Graph Definition\n",
    "g = tf.Graph()\n",
    "with g.as_default() as g:\n",
    "    tf_x = tf.placeholder(dtype=tf.float32, shape=[None, n_features], name='inputs')\n",
    "    tf_y = tf.placeholder(dtype=tf.float32, shape=[None, 10], name='targets')\n",
    "\n",
    "    params = {\n",
    "        'weights': tf.Variable(tf.zeros(shape=[n_features, n_classes], dtype=tf.float32), name='weights'),\n",
    "        'bias': tf.Variable([[n_classes]], dtype=tf.float32, name='bias')\n",
    "    }\n",
    "\n",
    "    # Softmax Regression\n",
    "    linear = tf.matmul(tf_x, params['weights']) + params['bias']\n",
    "    pred_proba = tf.nn.softmax(linear, name='predict_probas')\n",
    "    cost = tf.reduce_mean(tf.nn.softmax_cross_entropy_with_logits_v2(logits=linear, labels=tf_y), name='cost')\n",
    "    optimizer = tf.train.GradientDescentOptimizer(learning_rate=learning_rate)\n",
    "    train = optimizer.minimize(cost, name='train')\n",
    "\n",
    "    # Class prediction\n",
    "    pred_labels = tf.argmax(pred_proba, 1, name='predict_labels')\n",
    "    correct_prediction = tf.equal(tf.argmax(tf_y, 1), pred_labels)\n",
    "    accuracy = tf.reduce_mean(tf.cast(correct_prediction, tf.float32), name='accuracy')"
   ]
  },
  {
   "cell_type": "code",
   "execution_count": 4,
   "metadata": {},
   "outputs": [
    {
     "name": "stdout",
     "output_type": "stream",
     "text": [
      "Epoch: 001 | AvgCost: 0.476 | Train/Valid ACC: 0.901/0.911\n",
      "Epoch: 002 | AvgCost: 0.341 | Train/Valid ACC: 0.910/0.919\n",
      "Epoch: 003 | AvgCost: 0.319 | Train/Valid ACC: 0.912/0.916\n",
      "Epoch: 004 | AvgCost: 0.307 | Train/Valid ACC: 0.915/0.921\n",
      "Epoch: 005 | AvgCost: 0.302 | Train/Valid ACC: 0.918/0.922\n",
      "Epoch: 006 | AvgCost: 0.296 | Train/Valid ACC: 0.918/0.921\n",
      "Epoch: 007 | AvgCost: 0.291 | Train/Valid ACC: 0.921/0.924\n",
      "Epoch: 008 | AvgCost: 0.288 | Train/Valid ACC: 0.920/0.925\n",
      "Epoch: 009 | AvgCost: 0.285 | Train/Valid ACC: 0.920/0.923\n",
      "Epoch: 010 | AvgCost: 0.284 | Train/Valid ACC: 0.924/0.926\n",
      "Epoch: 011 | AvgCost: 0.283 | Train/Valid ACC: 0.924/0.926\n",
      "Epoch: 012 | AvgCost: 0.277 | Train/Valid ACC: 0.924/0.927\n",
      "Epoch: 013 | AvgCost: 0.278 | Train/Valid ACC: 0.926/0.925\n",
      "Epoch: 014 | AvgCost: 0.274 | Train/Valid ACC: 0.926/0.926\n",
      "Epoch: 015 | AvgCost: 0.276 | Train/Valid ACC: 0.926/0.928\n",
      "Epoch: 016 | AvgCost: 0.276 | Train/Valid ACC: 0.926/0.926\n",
      "Epoch: 017 | AvgCost: 0.270 | Train/Valid ACC: 0.927/0.926\n",
      "Epoch: 018 | AvgCost: 0.271 | Train/Valid ACC: 0.925/0.927\n",
      "Epoch: 019 | AvgCost: 0.273 | Train/Valid ACC: 0.927/0.929\n",
      "Epoch: 020 | AvgCost: 0.267 | Train/Valid ACC: 0.925/0.925\n",
      "Epoch: 021 | AvgCost: 0.270 | Train/Valid ACC: 0.928/0.927\n",
      "Epoch: 022 | AvgCost: 0.267 | Train/Valid ACC: 0.928/0.928\n",
      "Epoch: 023 | AvgCost: 0.267 | Train/Valid ACC: 0.928/0.928\n",
      "Epoch: 024 | AvgCost: 0.266 | Train/Valid ACC: 0.929/0.927\n",
      "Epoch: 025 | AvgCost: 0.267 | Train/Valid ACC: 0.929/0.927\n",
      "Epoch: 026 | AvgCost: 0.262 | Train/Valid ACC: 0.927/0.928\n",
      "Epoch: 027 | AvgCost: 0.265 | Train/Valid ACC: 0.928/0.928\n",
      "Epoch: 028 | AvgCost: 0.264 | Train/Valid ACC: 0.929/0.927\n",
      "Epoch: 029 | AvgCost: 0.263 | Train/Valid ACC: 0.928/0.926\n",
      "Epoch: 030 | AvgCost: 0.262 | Train/Valid ACC: 0.928/0.925\n",
      "Test ACC: 0.924\n"
     ]
    }
   ],
   "source": [
    "# Training & Evaluation\n",
    "with tf.Session(graph=g) as sess:\n",
    "    sess.run(tf.global_variables_initializer())\n",
    "    for epoch in range(training_epochs):\n",
    "        avg_cost = 0.\n",
    "        total_batch = mnist.train.num_examples // batch_size\n",
    "        for i in range(total_batch):\n",
    "            bx, by = mnist.train.next_batch(batch_size)\n",
    "            _, c = sess.run(['train', 'cost:0'], feed_dict={tf_x: bx, tf_y: by})\n",
    "            avg_cost += c\n",
    "        train_acc = sess.run('accuracy:0', feed_dict={tf_x: mnist.train.images, tf_y: mnist.train.labels})\n",
    "        valid_acc = sess.run('accuracy:0', feed_dict={tf_x: mnist.validation.images, tf_y: mnist.validation.labels})\n",
    "        print(\"Epoch: %03d | AvgCost: %.3f\" % (epoch + 1, avg_cost / (i + 1)), end=\"\")\n",
    "        print(\" | Train/Valid ACC: %.3f/%.3f\" % (train_acc, valid_acc))\n",
    "    test_acc = sess.run(accuracy, feed_dict={tf_x: mnist.test.images, tf_y: mnist.test.labels})\n",
    "    print('Test ACC: %.3f' % test_acc)"
   ]
  }
 ],
 "metadata": {
  "kernelspec": {
   "display_name": "Python 3",
   "language": "python",
   "name": "python3"
  },
  "language_info": {
   "codemirror_mode": {
    "name": "ipython",
    "version": 3
   },
   "file_extension": ".py",
   "mimetype": "text/x-python",
   "name": "python",
   "nbconvert_exporter": "python",
   "pygments_lexer": "ipython3",
   "version": "3.6.5"
  }
 },
 "nbformat": 4,
 "nbformat_minor": 2
}
